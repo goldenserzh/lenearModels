{
 "cells": [
  {
   "cell_type": "code",
   "execution_count": 1,
   "metadata": {},
   "outputs": [
    {
     "name": "stdout",
     "output_type": "stream",
     "text": [
      "Overwriting abstractLinModel.py\n"
     ]
    }
   ],
   "source": [
    "%%writefile abstractLinModel.py\n",
    "import pandas as pd\n",
    "import numpy as np\n",
    "import abc\n",
    "from typing import Union\n",
    "class LinearModel(abc.ABC):\n",
    "    \"\"\"\n",
    "    Абстрактный базовый класс для создания линейных моделей.\n",
    "\n",
    "    Attributes:\n",
    "        learning_rate (float): Скорость обучения модели.\n",
    "        num_of_itr (int): Количество итераций для процесса обучения.\n",
    "    \"\"\"\n",
    "\n",
    "    def __init__(self, learning_rate: float, num_of_itr: int) -> None:\n",
    "        \"\"\"\n",
    "        Инициализирует параметры обучения.\n",
    "\n",
    "        Args:\n",
    "            learning_rate (float): Скорость обучения.\n",
    "            num_of_itr (int): Количество итераций.\n",
    "        \"\"\"\n",
    "        self.learning_rate = learning_rate\n",
    "        self.num_of_itr = num_of_itr\n",
    "\n",
    "    @abc.abstractmethod\n",
    "    def fit(self, x: Union[np.ndarray, pd.DataFrame], y: Union[np.ndarray, pd.Series]) -> None:\n",
    "        \"\"\"\n",
    "        Абстрактный метод для подгонки модели под данные.\n",
    "        \n",
    "        Args:\n",
    "            x (Union[np.ndarray, pd.DataFrame]): Массив признаков.\n",
    "            y (Union[np.ndarray, pd.Series]): Целевые значения.\n",
    "        \n",
    "        Raises:\n",
    "            NotImplementedError: Этот метод должен быть реализован в дочернем классе.\n",
    "        \"\"\"\n",
    "        pass\n",
    "\n",
    "    @abc.abstractmethod\n",
    "    def predict(self, x: Union[np.ndarray, pd.DataFrame]) -> np.ndarray:\n",
    "        \"\"\"\n",
    "        Абстрактный метод для выполнения предсказания на основе обученной модели.\n",
    "        \n",
    "        Args:\n",
    "            x (Union[np.ndarray, pd.DataFrame]): Массив признаков для предсказания.\n",
    "        \n",
    "        Returns:\n",
    "            np.ndarray: Предсказанные значения.\n",
    "        \n",
    "        Raises:\n",
    "            NotImplementedError: Этот метод должен быть реализован в дочернем классе.\n",
    "        \"\"\"\n",
    "        pass\n",
    "\n",
    "    @abc.abstractmethod\n",
    "    def loss(self, y_true: Union[np.ndarray, pd.Series], y_pred: np.ndarray) -> float:\n",
    "        \"\"\"\n",
    "        Абстрактный метод для вычисления ошибки модели.\n",
    "        \n",
    "        Args:\n",
    "            y_true (Union[np.ndarray, pd.Series]): Истинные значения целевой переменной.\n",
    "            y_pred (np.ndarray): Предсказанные значения модели.\n",
    "        \n",
    "        Returns:\n",
    "            float: Значение ошибки.\n",
    "        \n",
    "        Raises:\n",
    "            NotImplementedError: Этот метод должен быть реализован в дочернем классе.\n",
    "        \"\"\"\n",
    "        pass"
   ]
  },
  {
   "cell_type": "code",
   "execution_count": null,
   "metadata": {},
   "outputs": [],
   "source": []
  },
  {
   "cell_type": "code",
   "execution_count": null,
   "metadata": {},
   "outputs": [],
   "source": []
  }
 ],
 "metadata": {
  "kernelspec": {
   "display_name": "Python 3",
   "language": "python",
   "name": "python3"
  },
  "language_info": {
   "codemirror_mode": {
    "name": "ipython",
    "version": 3
   },
   "file_extension": ".py",
   "mimetype": "text/x-python",
   "name": "python",
   "nbconvert_exporter": "python",
   "pygments_lexer": "ipython3",
   "version": "3.11.1"
  }
 },
 "nbformat": 4,
 "nbformat_minor": 2
}
